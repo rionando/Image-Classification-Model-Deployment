{
  "nbformat": 4,
  "nbformat_minor": 0,
  "metadata": {
    "colab": {
      "name": "Submis_3_Pengembang_Fix.ipynb",
      "provenance": []
    },
    "kernelspec": {
      "name": "python3",
      "display_name": "Python 3"
    },
    "language_info": {
      "name": "python"
    },
    "accelerator": "GPU"
  },
  "cells": [
    {
      "cell_type": "code",
      "metadata": {
        "id": "5dfdHCXAMYno"
      },
      "source": [
        "import zipfile\n",
        "import os\n",
        "import glob \n",
        "import warnings\n",
        "\n",
        "from tensorflow.keras.preprocessing.image import ImageDataGenerator\n",
        "from tensorflow.keras.models import Sequential\n",
        "from tensorflow.keras.layers import Conv2D, MaxPooling2D, Activation, Dense, Flatten\n",
        "from tensorflow.keras.layers import Dropout\n",
        "from tensorflow.keras.optimizers import Adam\n",
        "import tensorflow as tf\n",
        "\n",
        "from keras.preprocessing import image\n",
        "from google.colab import files\n",
        "import numpy as np\n",
        "import matplotlib.pyplot as plt\n",
        "import matplotlib.image as mpimg\n",
        "%matplotlib inline"
      ],
      "execution_count": 1,
      "outputs": []
    },
    {
      "cell_type": "code",
      "metadata": {
        "colab": {
          "base_uri": "https://localhost:8080/"
        },
        "id": "fFmqYlLOMn-8",
        "outputId": "5b948e77-529c-4781-a55e-2f9c3424ab1b"
      },
      "source": [
        "!pip install kaggle"
      ],
      "execution_count": 2,
      "outputs": [
        {
          "output_type": "stream",
          "name": "stdout",
          "text": [
            "Requirement already satisfied: kaggle in /usr/local/lib/python3.7/dist-packages (1.5.12)\n",
            "Requirement already satisfied: python-dateutil in /usr/local/lib/python3.7/dist-packages (from kaggle) (2.8.2)\n",
            "Requirement already satisfied: python-slugify in /usr/local/lib/python3.7/dist-packages (from kaggle) (5.0.2)\n",
            "Requirement already satisfied: certifi in /usr/local/lib/python3.7/dist-packages (from kaggle) (2021.5.30)\n",
            "Requirement already satisfied: six>=1.10 in /usr/local/lib/python3.7/dist-packages (from kaggle) (1.15.0)\n",
            "Requirement already satisfied: tqdm in /usr/local/lib/python3.7/dist-packages (from kaggle) (4.62.3)\n",
            "Requirement already satisfied: urllib3 in /usr/local/lib/python3.7/dist-packages (from kaggle) (1.24.3)\n",
            "Requirement already satisfied: requests in /usr/local/lib/python3.7/dist-packages (from kaggle) (2.23.0)\n",
            "Requirement already satisfied: text-unidecode>=1.3 in /usr/local/lib/python3.7/dist-packages (from python-slugify->kaggle) (1.3)\n",
            "Requirement already satisfied: chardet<4,>=3.0.2 in /usr/local/lib/python3.7/dist-packages (from requests->kaggle) (3.0.4)\n",
            "Requirement already satisfied: idna<3,>=2.5 in /usr/local/lib/python3.7/dist-packages (from requests->kaggle) (2.10)\n"
          ]
        }
      ]
    },
    {
      "cell_type": "code",
      "metadata": {
        "colab": {
          "resources": {
            "http://localhost:8080/nbextensions/google.colab/files.js": {
              "data": "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",
              "ok": true,
              "headers": [
                [
                  "content-type",
                  "application/javascript"
                ]
              ],
              "status": 200,
              "status_text": ""
            }
          },
          "base_uri": "https://localhost:8080/",
          "height": 92
        },
        "id": "-UG_TWhfMqzp",
        "outputId": "ec3273a8-2c37-427b-e6b0-7eab17effc5f"
      },
      "source": [
        "from google.colab import files\n",
        "files.upload()"
      ],
      "execution_count": 3,
      "outputs": [
        {
          "output_type": "display_data",
          "data": {
            "text/html": [
              "\n",
              "     <input type=\"file\" id=\"files-23462ad3-d53d-4ac7-9b40-a4bf2eb29ea3\" name=\"files[]\" multiple disabled\n",
              "        style=\"border:none\" />\n",
              "     <output id=\"result-23462ad3-d53d-4ac7-9b40-a4bf2eb29ea3\">\n",
              "      Upload widget is only available when the cell has been executed in the\n",
              "      current browser session. Please rerun this cell to enable.\n",
              "      </output>\n",
              "      <script src=\"/nbextensions/google.colab/files.js\"></script> "
            ],
            "text/plain": [
              "<IPython.core.display.HTML object>"
            ]
          },
          "metadata": {}
        },
        {
          "output_type": "stream",
          "name": "stdout",
          "text": [
            "Saving kaggle.json to kaggle.json\n"
          ]
        },
        {
          "output_type": "execute_result",
          "data": {
            "text/plain": [
              "{'kaggle.json': b'{\"username\":\"muahammadrionandod\",\"key\":\"d0c9f1dfec82f6af90fcc9cc62f00bc5\"}'}"
            ]
          },
          "metadata": {},
          "execution_count": 3
        }
      ]
    },
    {
      "cell_type": "code",
      "metadata": {
        "colab": {
          "base_uri": "https://localhost:8080/"
        },
        "id": "-u_0DRyNMw8K",
        "outputId": "b0f41840-69d9-42bf-d038-e882c8929086"
      },
      "source": [
        "!mkdir -p ~/.kaggle\n",
        "!cp kaggle.json ~/.kaggle/\n",
        "!chmod 600 ~/.kaggle/kaggle.json\n",
        "!ls ~/.kaggle"
      ],
      "execution_count": 4,
      "outputs": [
        {
          "output_type": "stream",
          "name": "stdout",
          "text": [
            "kaggle.json\n"
          ]
        }
      ]
    },
    {
      "cell_type": "code",
      "metadata": {
        "colab": {
          "base_uri": "https://localhost:8080/"
        },
        "id": "wor5poq2M04i",
        "outputId": "1523c624-4bb5-4d1d-eddf-797e4cdd43d9"
      },
      "source": [
        "!kaggle datasets download -d moltean/fruits"
      ],
      "execution_count": 5,
      "outputs": [
        {
          "output_type": "stream",
          "name": "stdout",
          "text": [
            "Downloading fruits.zip to /content\n",
            " 99% 1.27G/1.28G [00:08<00:00, 147MB/s]\n",
            "100% 1.28G/1.28G [00:08<00:00, 154MB/s]\n"
          ]
        }
      ]
    },
    {
      "cell_type": "code",
      "metadata": {
        "colab": {
          "base_uri": "https://localhost:8080/"
        },
        "id": "Cm8HbApmM9P3",
        "outputId": "e84ef5ee-f92c-4709-87b7-a37e1c21f404"
      },
      "source": [
        "!mkdir fruits\n",
        "!unzip -qq fruits.zip -d fruits\n",
        "!ls fruits"
      ],
      "execution_count": 6,
      "outputs": [
        {
          "output_type": "stream",
          "name": "stdout",
          "text": [
            "fruits-360_dataset  fruits-360-original-size\n"
          ]
        }
      ]
    },
    {
      "cell_type": "code",
      "metadata": {
        "id": "H_zoY0p7M_wI",
        "colab": {
          "base_uri": "https://localhost:8080/"
        },
        "outputId": "25649d62-6caa-45dc-e09e-e614366a12a3"
      },
      "source": [
        "import os\n",
        "\n",
        "fruits = os.path.join('/content/fruits/fruits-360_dataset/fruits-360/Training')\n",
        "\n",
        "print(os.listdir(fruits))"
      ],
      "execution_count": 7,
      "outputs": [
        {
          "output_type": "stream",
          "name": "stdout",
          "text": [
            "['Apple Granny Smith', 'Quince', 'Carambula', 'Pear Red', 'Tamarillo', 'Pineapple Mini', 'Plum 3', 'Granadilla', 'Strawberry Wedge', 'Raspberry', 'Grape Blue', 'Apricot', 'Cherry Wax Red', 'Grape White 4', 'Huckleberry', 'Tomato not Ripened', 'Apple Pink Lady', 'Onion Red', 'Grape White 2', 'Pear Forelle', 'Walnut', 'Nectarine Flat', 'Avocado', 'Banana Red', 'Cherry 1', 'Lemon', 'Kohlrabi', 'Apple Red Yellow 2', 'Apple Crimson Snow', 'Tomato Yellow', 'Strawberry', 'Peach Flat', 'Guava', 'Cocos', 'Pomelo Sweetie', 'Kaki', 'Ginger Root', 'Maracuja', 'Watermelon', 'Nut Forest', 'Apple Braeburn', 'Potato Red Washed', 'Pear Abate', 'Pomegranate', 'Salak', 'Grapefruit White', 'Apple Red Delicious', 'Cherry Rainier', 'Papaya', 'Grapefruit Pink', 'Clementine', 'Physalis', 'Pepper Yellow', 'Lychee', 'Blueberry', 'Pitahaya Red', 'Pepper Red', 'Tomato Maroon', 'Potato Sweet', 'Plum', 'Cactus fruit', 'Apple Golden 2', 'Corn', 'Tomato 4', 'Corn Husk', 'Pineapple', 'Plum 2', 'Mango Red', 'Cantaloupe 1', 'Tangelo', 'Apple Red Yellow 1', 'Redcurrant', 'Physalis with Husk', 'Banana Lady Finger', 'Cucumber Ripe', 'Grape White', 'Rambutan', 'Onion Red Peeled', 'Peach', 'Melon Piel de Sapo', 'Pear Stone', 'Beetroot', 'Mango', 'Grape White 3', 'Pepper Orange', 'Peach 2', 'Limes', 'Mulberry', 'Tomato 1', 'Tomato Heart', 'Banana', 'Apple Red 3', 'Passion Fruit', 'Tomato Cherry Red', 'Cantaloupe 2', 'Nut Pecan', 'Pepino', 'Eggplant', 'Kiwi', 'Pepper Green', 'Apple Red 1', 'Cherry 2', 'Mangostan', 'Lemon Meyer', 'Pear Kaiser', 'Onion White', 'Hazelnut', 'Potato Red', 'Grape Pink', 'Tomato 2', 'Pear Williams', 'Pear', 'Potato White', 'Chestnut', 'Cherry Wax Yellow', 'Apple Golden 3', 'Kumquats', 'Orange', 'Apple Red 2', 'Dates', 'Pear Monster', 'Cherry Wax Black', 'Mandarine', 'Fig', 'Avocado ripe', 'Apple Golden 1', 'Pear 2', 'Cucumber Ripe 2', 'Cauliflower', 'Nectarine', 'Tomato 3']\n"
          ]
        }
      ]
    },
    {
      "cell_type": "code",
      "metadata": {
        "id": "dhHoFnYeNFEB",
        "colab": {
          "base_uri": "https://localhost:8080/"
        },
        "outputId": "a174c65c-493b-4069-b192-d4014f47a0db"
      },
      "source": [
        "fruits = ['Apple Granny Smith', 'Quince', 'Carambula', 'Pear Red', 'Tamarillo', 'Pineapple Mini', 'Plum 3', 'Granadilla', 'Strawberry Wedge', 'Raspberry', 'Grape Blue', 'Apricot', 'Cherry Wax Red', 'Grape White 4', 'Huckleberry', 'Tomato not Ripened', 'Apple Pink Lady', 'Onion Red', 'Grape White 2', 'Pear Forelle', 'Walnut', 'Nectarine Flat', 'Avocado', 'Banana Red', 'Cherry 1', 'Lemon', 'Kohlrabi', 'Apple Red Yellow 2', 'Apple Crimson Snow', 'Tomato Yellow', 'Strawberry', 'Peach Flat', 'Guava', 'Cocos', 'Pomelo Sweetie', 'Kaki', 'Ginger Root', 'Maracuja', 'Watermelon', 'Nut Forest', 'Apple Braeburn', 'Potato Red Washed', 'Pear Abate', 'Pomegranate', 'Salak', 'Grapefruit White', 'Apple Red Delicious', 'Cherry Rainier', 'Papaya', 'Grapefruit Pink', 'Clementine', 'Physalis', 'Pepper Yellow', 'Lychee', 'Blueberry', 'Pitahaya Red', 'Pepper Red', 'Tomato Maroon', 'Potato Sweet', 'Plum', 'Cactus fruit', 'Apple Golden 2', 'Corn', 'Tomato 4', 'Corn Husk', 'Pineapple', 'Plum 2', 'Mango Red', 'Cantaloupe 1', 'Tangelo', 'Apple Red Yellow 1', 'Redcurrant', 'Physalis with Husk', 'Banana Lady Finger', 'Cucumber Ripe', 'Grape White', 'Rambutan', 'Onion Red Peeled', 'Peach', 'Melon Piel de Sapo', 'Pear Stone', 'Beetroot', 'Mango', 'Grape White 3', 'Pepper Orange', 'Peach 2', 'Limes', 'Mulberry', 'Tomato 1', 'Tomato Heart', 'Banana', 'Apple Red 3', 'Passion Fruit', 'Tomato Cherry Red', 'Cantaloupe 2', 'Nut Pecan', 'Pepino', 'Eggplant', 'Kiwi', 'Pepper Green', 'Apple Red 1', 'Cherry 2', 'Mangostan', 'Lemon Meyer', 'Pear Kaiser', 'Onion White', 'Hazelnut', 'Potato Red', 'Grape Pink', 'Tomato 2', 'Pear Williams', 'Pear', 'Potato White', 'Chestnut', 'Cherry Wax Yellow', 'Apple Golden 3', 'Kumquats', 'Orange', 'Apple Red 2', 'Dates', 'Pear Monster', 'Cherry Wax Black', 'Mandarine', 'Fig', 'Avocado ripe', 'Apple Golden 1', 'Pear 2', 'Cucumber Ripe 2', 'Cauliflower', 'Nectarine', 'Tomato 3']\n",
        "\n",
        "for fruits in fruits:\n",
        "    print(f'{fruits} images: ', len(os.listdir(f'/content/fruits/fruits-360_dataset/fruits-360/Training/{fruits}')))\n",
        "\n",
        "    total_image = len(list(glob.iglob(\"/content/fruits/fruits-360_dataset/fruits-360/Training/*/*.*\", recursive=True)))\n",
        "print(\"Total Data Image JPEG     : \",total_image)"
      ],
      "execution_count": 8,
      "outputs": [
        {
          "output_type": "stream",
          "name": "stdout",
          "text": [
            "Apple Granny Smith images:  492\n",
            "Quince images:  490\n",
            "Carambula images:  490\n",
            "Pear Red images:  666\n",
            "Tamarillo images:  490\n",
            "Pineapple Mini images:  493\n",
            "Plum 3 images:  900\n",
            "Granadilla images:  490\n",
            "Strawberry Wedge images:  738\n",
            "Raspberry images:  490\n",
            "Grape Blue images:  984\n",
            "Apricot images:  492\n",
            "Cherry Wax Red images:  492\n",
            "Grape White 4 images:  471\n",
            "Huckleberry images:  490\n",
            "Tomato not Ripened images:  474\n",
            "Apple Pink Lady images:  456\n",
            "Onion Red images:  450\n",
            "Grape White 2 images:  490\n",
            "Pear Forelle images:  702\n",
            "Walnut images:  735\n",
            "Nectarine Flat images:  480\n",
            "Avocado images:  427\n",
            "Banana Red images:  490\n",
            "Cherry 1 images:  492\n",
            "Lemon images:  492\n",
            "Kohlrabi images:  471\n",
            "Apple Red Yellow 2 images:  672\n",
            "Apple Crimson Snow images:  444\n",
            "Tomato Yellow images:  459\n",
            "Strawberry images:  492\n",
            "Peach Flat images:  492\n",
            "Guava images:  490\n",
            "Cocos images:  490\n",
            "Pomelo Sweetie images:  450\n",
            "Kaki images:  490\n",
            "Ginger Root images:  297\n",
            "Maracuja images:  490\n",
            "Watermelon images:  475\n",
            "Nut Forest images:  654\n",
            "Apple Braeburn images:  492\n",
            "Potato Red Washed images:  453\n",
            "Pear Abate images:  490\n",
            "Pomegranate images:  492\n",
            "Salak images:  490\n",
            "Grapefruit White images:  492\n",
            "Apple Red Delicious images:  490\n",
            "Cherry Rainier images:  738\n",
            "Papaya images:  492\n",
            "Grapefruit Pink images:  490\n",
            "Clementine images:  490\n",
            "Physalis images:  492\n",
            "Pepper Yellow images:  666\n",
            "Lychee images:  490\n",
            "Blueberry images:  462\n",
            "Pitahaya Red images:  490\n",
            "Pepper Red images:  666\n",
            "Tomato Maroon images:  367\n",
            "Potato Sweet images:  450\n",
            "Plum images:  447\n",
            "Cactus fruit images:  490\n",
            "Apple Golden 2 images:  492\n",
            "Corn images:  450\n",
            "Tomato 4 images:  479\n",
            "Corn Husk images:  462\n",
            "Pineapple images:  490\n",
            "Plum 2 images:  420\n",
            "Mango Red images:  426\n",
            "Cantaloupe 1 images:  492\n",
            "Tangelo images:  490\n",
            "Apple Red Yellow 1 images:  492\n",
            "Redcurrant images:  492\n",
            "Physalis with Husk images:  492\n",
            "Banana Lady Finger images:  450\n",
            "Cucumber Ripe images:  392\n",
            "Grape White images:  490\n",
            "Rambutan images:  492\n",
            "Onion Red Peeled images:  445\n",
            "Peach images:  492\n",
            "Melon Piel de Sapo images:  738\n",
            "Pear Stone images:  711\n",
            "Beetroot images:  450\n",
            "Mango images:  490\n",
            "Grape White 3 images:  492\n",
            "Pepper Orange images:  702\n",
            "Peach 2 images:  738\n",
            "Limes images:  490\n",
            "Mulberry images:  492\n",
            "Tomato 1 images:  738\n",
            "Tomato Heart images:  684\n",
            "Banana images:  490\n",
            "Apple Red 3 images:  429\n",
            "Passion Fruit images:  490\n",
            "Tomato Cherry Red images:  492\n",
            "Cantaloupe 2 images:  492\n",
            "Nut Pecan images:  534\n",
            "Pepino images:  490\n",
            "Eggplant images:  468\n",
            "Kiwi images:  466\n",
            "Pepper Green images:  444\n",
            "Apple Red 1 images:  492\n",
            "Cherry 2 images:  738\n",
            "Mangostan images:  300\n",
            "Lemon Meyer images:  490\n",
            "Pear Kaiser images:  300\n",
            "Onion White images:  438\n",
            "Hazelnut images:  464\n",
            "Potato Red images:  450\n",
            "Grape Pink images:  492\n",
            "Tomato 2 images:  672\n",
            "Pear Williams images:  490\n",
            "Pear images:  492\n",
            "Potato White images:  450\n",
            "Chestnut images:  450\n",
            "Cherry Wax Yellow images:  492\n",
            "Apple Golden 3 images:  481\n",
            "Kumquats images:  490\n",
            "Orange images:  479\n",
            "Apple Red 2 images:  492\n",
            "Dates images:  490\n",
            "Pear Monster images:  490\n",
            "Cherry Wax Black images:  492\n",
            "Mandarine images:  490\n",
            "Fig images:  702\n",
            "Avocado ripe images:  491\n",
            "Apple Golden 1 images:  480\n",
            "Pear 2 images:  696\n",
            "Cucumber Ripe 2 images:  468\n",
            "Cauliflower images:  702\n",
            "Nectarine images:  492\n",
            "Tomato 3 images:  738\n",
            "Total Data Image JPEG     :  67692\n"
          ]
        }
      ]
    },
    {
      "cell_type": "code",
      "metadata": {
        "id": "-QV6OsmHG-6A"
      },
      "source": [
        "import os\n",
        "\n",
        "fruits = os.path.join('/content/fruits/fruits-360_dataset/fruits-360/Training')\n",
        "\n",
        "import shutil\n",
        "\n",
        "ignore_fruits = ['Lemon', 'Kohlrabi', 'Apple Red Yellow 2', 'Apple Crimson Snow', 'Tomato Yellow', 'Strawberry', 'Peach Flat', 'Guava', 'Cocos', 'Pomelo Sweetie', 'Kaki', 'Ginger Root', 'Maracuja', 'Watermelon', 'Nut Forest', 'Apple Braeburn', 'Potato Red Washed', 'Pear Abate', 'Pomegranate', 'Salak', 'Grapefruit White', 'Apple Red Delicious', 'Cherry Rainier', 'Papaya', 'Grapefruit Pink', 'Clementine', 'Physalis', 'Pepper Yellow', 'Lychee', 'Blueberry', 'Pitahaya Red', 'Pepper Red', 'Tomato Maroon', 'Potato Sweet', 'Plum', 'Cactus fruit', 'Apple Golden 2', 'Corn', 'Tomato 4', 'Corn Husk', 'Pineapple', 'Plum 2', 'Mango Red', 'Cantaloupe 1', 'Tangelo', 'Apple Red Yellow 1', 'Redcurrant', 'Physalis with Husk', 'Banana Lady Finger', 'Cucumber Ripe', 'Grape White', 'Rambutan', 'Onion Red Peeled', 'Peach', 'Melon Piel de Sapo', 'Pear Stone', 'Beetroot', 'Mango', 'Grape White 3', 'Pepper Orange', 'Peach 2', 'Limes', 'Mulberry', 'Tomato 1', 'Tomato Heart', 'Banana', 'Apple Red 3', 'Passion Fruit', 'Tomato Cherry Red', 'Cantaloupe 2', 'Nut Pecan', 'Pepino', 'Eggplant', 'Kiwi', 'Pepper Green', 'Apple Red 1', 'Cherry 2', 'Mangostan', 'Lemon Meyer', 'Pear Kaiser', 'Onion White', 'Hazelnut', 'Potato Red', 'Grape Pink', 'Tomato 2', 'Pear Williams', 'Pear', 'Potato White', 'Chestnut', 'Cherry Wax Yellow', 'Apple Golden 3', 'Kumquats', 'Orange', 'Apple Red 2', 'Dates', 'Pear Monster', 'Cherry Wax Black', 'Mandarine', 'Fig', 'Avocado ripe', 'Apple Golden 1', 'Pear 2', 'Cucumber Ripe 2', 'Cauliflower', 'Nectarine', 'Tomato 3']\n",
        "\n",
        "for x in ignore_fruits:\n",
        "  path = os.path.join(fruits, x)\n",
        "  shutil.rmtree(path)"
      ],
      "execution_count": 9,
      "outputs": []
    },
    {
      "cell_type": "code",
      "metadata": {
        "id": "NH1fYY1MNJ1A"
      },
      "source": [
        "train_dir = os.path.join('/content/fruits/fruits-360_dataset/fruits-360/Training')\n",
        "train_datagen = ImageDataGenerator(rescale=1./255,\n",
        "    rotation_range=20,\n",
        "    zoom_range=0.2,\n",
        "    shear_range=0.2,\n",
        "    fill_mode = 'nearest',\n",
        "    validation_split=0.2) "
      ],
      "execution_count": 10,
      "outputs": []
    },
    {
      "cell_type": "code",
      "metadata": {
        "id": "j1lc3Z5PNM8p",
        "colab": {
          "base_uri": "https://localhost:8080/"
        },
        "outputId": "c7c8443f-f17e-412b-e5c3-2e5a851d947d"
      },
      "source": [
        "train_generator = train_datagen.flow_from_directory(\n",
        "    train_dir,\n",
        "    target_size=(150, 150),\n",
        "    batch_size=8,\n",
        "    class_mode='categorical',\n",
        "    subset='training') \n",
        "validation_generator = train_datagen.flow_from_directory(\n",
        "    train_dir, \n",
        "    target_size=(150, 150),\n",
        "    batch_size=16,\n",
        "    class_mode='categorical',\n",
        "    subset='validation')"
      ],
      "execution_count": 11,
      "outputs": [
        {
          "output_type": "stream",
          "name": "stdout",
          "text": [
            "Found 11097 images belonging to 25 classes.\n",
            "Found 2767 images belonging to 25 classes.\n"
          ]
        }
      ]
    },
    {
      "cell_type": "code",
      "metadata": {
        "id": "QYStTjaMTmzQ"
      },
      "source": [
        "model_simple = tf.keras.models.Sequential([\n",
        "    tf.keras.layers.Conv2D(64, (3,3), activation='relu', input_shape=(150, 150, 3)),\n",
        "    tf.keras.layers.MaxPooling2D(2, 2),\n",
        "    tf.keras.layers.Conv2D(64, (3,3), activation='relu'),\n",
        "    tf.keras.layers.MaxPooling2D(2,2),\n",
        "    tf.keras.layers.Conv2D(128, (3,3), activation='relu'),\n",
        "    tf.keras.layers.MaxPooling2D(2,2),\n",
        "    tf.keras.layers.Conv2D(128, (3,3), activation='relu'),\n",
        "    tf.keras.layers.MaxPooling2D(2,2),\n",
        "    tf.keras.layers.Flatten(),\n",
        "    tf.keras.layers.Dropout(0.5), \n",
        "    tf.keras.layers.Dense(512, activation='relu'),\n",
        "    tf.keras.layers.Dense(25, activation='softmax')])\n",
        "\n",
        "\n",
        "model_simple.compile(\n",
        "    optimizer='adam', \n",
        "    loss='categorical_crossentropy', \n",
        "    metrics=['accuracy'])"
      ],
      "execution_count": 12,
      "outputs": []
    },
    {
      "cell_type": "code",
      "metadata": {
        "id": "iLZmJ1r4TPSU",
        "colab": {
          "base_uri": "https://localhost:8080/"
        },
        "outputId": "a22b688f-e295-408c-f000-737efdba5bbd"
      },
      "source": [
        "def scheduler(epoch, lr):\n",
        "  if epoch < 5:\n",
        "    return lr\n",
        "  else:\n",
        "    return lr * tf.math.exp(-0.1)\n",
        "\n",
        "lr_schedule = tf.keras.callbacks.LearningRateScheduler(scheduler, verbose=1)\n",
        "tb_callback = tf.keras.callbacks.TensorBoard(\n",
        "    log_dir='logs', histogram_freq=0, write_graph=True, write_images=False,\n",
        "    update_freq='epoch', embeddings_freq=0,\n",
        "    embeddings_metadata=None\n",
        ")\n",
        "\n",
        "model_simple.summary()"
      ],
      "execution_count": 13,
      "outputs": [
        {
          "output_type": "stream",
          "name": "stdout",
          "text": [
            "Model: \"sequential\"\n",
            "_________________________________________________________________\n",
            "Layer (type)                 Output Shape              Param #   \n",
            "=================================================================\n",
            "conv2d (Conv2D)              (None, 148, 148, 64)      1792      \n",
            "_________________________________________________________________\n",
            "max_pooling2d (MaxPooling2D) (None, 74, 74, 64)        0         \n",
            "_________________________________________________________________\n",
            "conv2d_1 (Conv2D)            (None, 72, 72, 64)        36928     \n",
            "_________________________________________________________________\n",
            "max_pooling2d_1 (MaxPooling2 (None, 36, 36, 64)        0         \n",
            "_________________________________________________________________\n",
            "conv2d_2 (Conv2D)            (None, 34, 34, 128)       73856     \n",
            "_________________________________________________________________\n",
            "max_pooling2d_2 (MaxPooling2 (None, 17, 17, 128)       0         \n",
            "_________________________________________________________________\n",
            "conv2d_3 (Conv2D)            (None, 15, 15, 128)       147584    \n",
            "_________________________________________________________________\n",
            "max_pooling2d_3 (MaxPooling2 (None, 7, 7, 128)         0         \n",
            "_________________________________________________________________\n",
            "flatten (Flatten)            (None, 6272)              0         \n",
            "_________________________________________________________________\n",
            "dropout (Dropout)            (None, 6272)              0         \n",
            "_________________________________________________________________\n",
            "dense (Dense)                (None, 512)               3211776   \n",
            "_________________________________________________________________\n",
            "dense_1 (Dense)              (None, 25)                12825     \n",
            "=================================================================\n",
            "Total params: 3,484,761\n",
            "Trainable params: 3,484,761\n",
            "Non-trainable params: 0\n",
            "_________________________________________________________________\n"
          ]
        }
      ]
    },
    {
      "cell_type": "code",
      "metadata": {
        "id": "FB7aTusnT-gZ",
        "colab": {
          "base_uri": "https://localhost:8080/"
        },
        "outputId": "49f7ecd6-1070-426c-dffc-73dd54fcaf86"
      },
      "source": [
        "batch_size = 16\n",
        "\n",
        "with tf.device(\"/device:GPU:0\"):\n",
        "  history = model_simple.fit(train_generator, \n",
        "                    epochs =  25, \n",
        "                    steps_per_epoch = 1751//batch_size, \n",
        "                    validation_data = validation_generator, \n",
        "                    verbose = 1, \n",
        "                    validation_steps = 437//batch_size,\n",
        "                    callbacks =[lr_schedule, tb_callback])"
      ],
      "execution_count": 14,
      "outputs": [
        {
          "output_type": "stream",
          "name": "stdout",
          "text": [
            "Epoch 1/25\n",
            "\n",
            "Epoch 00001: LearningRateScheduler setting learning rate to 0.0010000000474974513.\n",
            "109/109 [==============================] - 44s 120ms/step - loss: 2.3981 - accuracy: 0.2810 - val_loss: 1.3321 - val_accuracy: 0.6551\n",
            "Epoch 2/25\n",
            "\n",
            "Epoch 00002: LearningRateScheduler setting learning rate to 0.0010000000474974513.\n",
            "109/109 [==============================] - 10s 92ms/step - loss: 0.7248 - accuracy: 0.7534 - val_loss: 0.6153 - val_accuracy: 0.8056\n",
            "Epoch 3/25\n",
            "\n",
            "Epoch 00003: LearningRateScheduler setting learning rate to 0.0010000000474974513.\n",
            "109/109 [==============================] - 10s 92ms/step - loss: 0.3896 - accuracy: 0.8601 - val_loss: 0.5588 - val_accuracy: 0.8449\n",
            "Epoch 4/25\n",
            "\n",
            "Epoch 00004: LearningRateScheduler setting learning rate to 0.0010000000474974513.\n",
            "109/109 [==============================] - 10s 91ms/step - loss: 0.5004 - accuracy: 0.8624 - val_loss: 0.3751 - val_accuracy: 0.8889\n",
            "Epoch 5/25\n",
            "\n",
            "Epoch 00005: LearningRateScheduler setting learning rate to 0.0010000000474974513.\n",
            "109/109 [==============================] - 12s 111ms/step - loss: 0.3310 - accuracy: 0.8956 - val_loss: 0.3352 - val_accuracy: 0.9074\n",
            "Epoch 6/25\n",
            "\n",
            "Epoch 00006: LearningRateScheduler setting learning rate to tf.Tensor(0.0009048374, shape=(), dtype=float32).\n",
            "109/109 [==============================] - 12s 114ms/step - loss: 0.1078 - accuracy: 0.9771 - val_loss: 0.2475 - val_accuracy: 0.9213\n",
            "Epoch 7/25\n",
            "\n",
            "Epoch 00007: LearningRateScheduler setting learning rate to tf.Tensor(0.0008187307, shape=(), dtype=float32).\n",
            "109/109 [==============================] - 10s 92ms/step - loss: 0.0923 - accuracy: 0.9713 - val_loss: 0.2207 - val_accuracy: 0.9259\n",
            "Epoch 8/25\n",
            "\n",
            "Epoch 00008: LearningRateScheduler setting learning rate to tf.Tensor(0.0007408181, shape=(), dtype=float32).\n",
            "109/109 [==============================] - 12s 114ms/step - loss: 0.0903 - accuracy: 0.9748 - val_loss: 0.3388 - val_accuracy: 0.9190\n",
            "Epoch 9/25\n",
            "\n",
            "Epoch 00009: LearningRateScheduler setting learning rate to tf.Tensor(0.0006703199, shape=(), dtype=float32).\n",
            "109/109 [==============================] - 12s 114ms/step - loss: 0.0756 - accuracy: 0.9759 - val_loss: 0.1765 - val_accuracy: 0.9329\n",
            "Epoch 10/25\n",
            "\n",
            "Epoch 00010: LearningRateScheduler setting learning rate to tf.Tensor(0.00060653046, shape=(), dtype=float32).\n",
            "109/109 [==============================] - 12s 113ms/step - loss: 0.0432 - accuracy: 0.9873 - val_loss: 0.2246 - val_accuracy: 0.9421\n",
            "Epoch 11/25\n",
            "\n",
            "Epoch 00011: LearningRateScheduler setting learning rate to tf.Tensor(0.00054881145, shape=(), dtype=float32).\n",
            "109/109 [==============================] - 10s 92ms/step - loss: 0.0140 - accuracy: 0.9954 - val_loss: 0.0803 - val_accuracy: 0.9722\n",
            "Epoch 12/25\n",
            "\n",
            "Epoch 00012: LearningRateScheduler setting learning rate to tf.Tensor(0.0004965851, shape=(), dtype=float32).\n",
            "109/109 [==============================] - 12s 113ms/step - loss: 0.0059 - accuracy: 1.0000 - val_loss: 0.2674 - val_accuracy: 0.9514\n",
            "Epoch 13/25\n",
            "\n",
            "Epoch 00013: LearningRateScheduler setting learning rate to tf.Tensor(0.00044932874, shape=(), dtype=float32).\n",
            "109/109 [==============================] - 12s 114ms/step - loss: 0.0304 - accuracy: 0.9920 - val_loss: 0.1572 - val_accuracy: 0.9514\n",
            "Epoch 14/25\n",
            "\n",
            "Epoch 00014: LearningRateScheduler setting learning rate to tf.Tensor(0.00040656942, shape=(), dtype=float32).\n",
            "109/109 [==============================] - 10s 91ms/step - loss: 0.0154 - accuracy: 0.9931 - val_loss: 0.2242 - val_accuracy: 0.9259\n",
            "Epoch 15/25\n",
            "\n",
            "Epoch 00015: LearningRateScheduler setting learning rate to tf.Tensor(0.0003678792, shape=(), dtype=float32).\n",
            "109/109 [==============================] - 10s 91ms/step - loss: 0.0087 - accuracy: 0.9977 - val_loss: 0.1470 - val_accuracy: 0.9560\n",
            "Epoch 16/25\n",
            "\n",
            "Epoch 00016: LearningRateScheduler setting learning rate to tf.Tensor(0.00033287084, shape=(), dtype=float32).\n",
            "109/109 [==============================] - 12s 114ms/step - loss: 0.0030 - accuracy: 1.0000 - val_loss: 0.1508 - val_accuracy: 0.9468\n",
            "Epoch 17/25\n",
            "\n",
            "Epoch 00017: LearningRateScheduler setting learning rate to tf.Tensor(0.00030119397, shape=(), dtype=float32).\n",
            "109/109 [==============================] - 10s 91ms/step - loss: 0.0101 - accuracy: 0.9966 - val_loss: 0.0884 - val_accuracy: 0.9722\n",
            "Epoch 18/25\n",
            "\n",
            "Epoch 00018: LearningRateScheduler setting learning rate to tf.Tensor(0.00027253156, shape=(), dtype=float32).\n",
            "109/109 [==============================] - 10s 91ms/step - loss: 0.0021 - accuracy: 1.0000 - val_loss: 0.1859 - val_accuracy: 0.9444\n",
            "Epoch 19/25\n",
            "\n",
            "Epoch 00019: LearningRateScheduler setting learning rate to tf.Tensor(0.00024659673, shape=(), dtype=float32).\n",
            "109/109 [==============================] - 12s 113ms/step - loss: 0.0177 - accuracy: 0.9920 - val_loss: 0.2385 - val_accuracy: 0.9468\n",
            "Epoch 20/25\n",
            "\n",
            "Epoch 00020: LearningRateScheduler setting learning rate to tf.Tensor(0.00022312993, shape=(), dtype=float32).\n",
            "109/109 [==============================] - 10s 91ms/step - loss: 0.0165 - accuracy: 0.9942 - val_loss: 0.1919 - val_accuracy: 0.9537\n",
            "Epoch 21/25\n",
            "\n",
            "Epoch 00021: LearningRateScheduler setting learning rate to tf.Tensor(0.0002018963, shape=(), dtype=float32).\n",
            "109/109 [==============================] - 10s 91ms/step - loss: 0.0054 - accuracy: 0.9977 - val_loss: 0.2012 - val_accuracy: 0.9583\n",
            "Epoch 22/25\n",
            "\n",
            "Epoch 00022: LearningRateScheduler setting learning rate to tf.Tensor(0.00018268332, shape=(), dtype=float32).\n",
            "109/109 [==============================] - 12s 114ms/step - loss: 0.0110 - accuracy: 0.9966 - val_loss: 0.2212 - val_accuracy: 0.9468\n",
            "Epoch 23/25\n",
            "\n",
            "Epoch 00023: LearningRateScheduler setting learning rate to tf.Tensor(0.0001652987, shape=(), dtype=float32).\n",
            "109/109 [==============================] - 10s 91ms/step - loss: 0.0033 - accuracy: 0.9989 - val_loss: 0.1326 - val_accuracy: 0.9514\n",
            "Epoch 24/25\n",
            "\n",
            "Epoch 00024: LearningRateScheduler setting learning rate to tf.Tensor(0.00014956844, shape=(), dtype=float32).\n",
            "109/109 [==============================] - 12s 113ms/step - loss: 0.0013 - accuracy: 1.0000 - val_loss: 0.1007 - val_accuracy: 0.9769\n",
            "Epoch 25/25\n",
            "\n",
            "Epoch 00025: LearningRateScheduler setting learning rate to tf.Tensor(0.00013533511, shape=(), dtype=float32).\n",
            "109/109 [==============================] - 12s 114ms/step - loss: 0.0026 - accuracy: 1.0000 - val_loss: 0.1718 - val_accuracy: 0.9537\n"
          ]
        }
      ]
    },
    {
      "cell_type": "code",
      "metadata": {
        "id": "7Wu3kvAiiUdk",
        "colab": {
          "base_uri": "https://localhost:8080/",
          "height": 295
        },
        "outputId": "d21ecdb1-a499-42a2-896d-d5402522fd57"
      },
      "source": [
        "plt.plot(history.history['accuracy'])\n",
        "plt.plot(history.history['val_accuracy'])\n",
        "plt.title('Accuracy')\n",
        "plt.ylabel('accuracy')\n",
        "plt.xlabel('epoch')\n",
        "plt.legend(['train', 'val'], loc='upper left')\n",
        "plt.show()"
      ],
      "execution_count": 15,
      "outputs": [
        {
          "output_type": "display_data",
          "data": {
            "image/png": "[encoded data removed]",
            "text/plain": [
              "<Figure size 432x288 with 1 Axes>"
            ]
          },
          "metadata": {
            "needs_background": "light"
          }
        }
      ]
    },
    {
      "cell_type": "code",
      "metadata": {
        "id": "Byb1d1v4ieeA",
        "colab": {
          "base_uri": "https://localhost:8080/",
          "height": 295
        },
        "outputId": "9cebf6eb-06f9-4349-cdc0-b7ce20fb6362"
      },
      "source": [
        "plt.plot(history.history['loss'])\n",
        "plt.plot(history.history['val_loss'])\n",
        "plt.title('Loss')\n",
        "plt.ylabel('loss')\n",
        "plt.xlabel('epoch')\n",
        "plt.legend(['train', 'val'], loc='upper left')\n",
        "plt.show()"
      ],
      "execution_count": 16,
      "outputs": [
        {
          "output_type": "display_data",
          "data": {
            "image/png": "[encoded data removed]",
            "text/plain": [
              "<Figure size 432x288 with 1 Axes>"
            ]
          },
          "metadata": {
            "needs_background": "light"
          }
        }
      ]
    },
    {
      "cell_type": "code",
      "metadata": {
        "id": "BWRjIwkTizbq"
      },
      "source": [
        "model_simple.save_weights('model_inception_weights.h5')\n",
        "model_simple.save('model_inception.h5')"
      ],
      "execution_count": 17,
      "outputs": []
    },
    {
      "cell_type": "code",
      "metadata": {
        "id": "n7fkU584i-j0",
        "colab": {
          "base_uri": "https://localhost:8080/"
        },
        "outputId": "c72d903c-0186-44ef-fafb-05df1e819e95"
      },
      "source": [
        "converter = tf.lite.TFLiteConverter.from_keras_model(model_simple)\n",
        "tflite_model_simple = converter.convert()\n",
        "\n",
        "with tf.io.gfile.GFile('model_simple.tflite', 'wb') as f:\n",
        "  f.write(tflite_model_simple)"
      ],
      "execution_count": 18,
      "outputs": [
        {
          "output_type": "stream",
          "name": "stdout",
          "text": [
            "INFO:tensorflow:Assets written to: /tmp/tmpz2o1t5si/assets\n"
          ]
        }
      ]
    }
  ]
}